{
 "cells": [
  {
   "cell_type": "code",
   "execution_count": null,
   "source": [
    "# Write your code below and press Shift+Enter to execute\r\n",
    "\r\n",
    "set(['rap', 'house', 'electronic music', 'rap'])"
   ],
   "outputs": [],
   "metadata": {}
  },
  {
   "cell_type": "code",
   "execution_count": null,
   "source": [
    "# Write your code below and press Shift+Enter to execute\r\n",
    "\r\n",
    "A = [1, 2, 2, 1]\r\n",
    "B = set([1, 2, 2, 1])\r\n",
    "print(\"the sum of A is: \", sum(A))\r\n",
    "print(\"the sum of B is: \", sum(B))"
   ],
   "outputs": [],
   "metadata": {}
  },
  {
   "cell_type": "code",
   "execution_count": null,
   "source": [
    "# Write your code below and press Shift+Enter to execute\r\n",
    "\r\n",
    "album_set1 = set([\"Thriller\", 'AC/DC', 'Back in Black'])\r\n",
    "album_set2 = set([ \"AC/DC\", \"Back in Black\", \"The Dark Side of the Moon\"])\r\n",
    "\r\n",
    "album_set3 = album_set1.union(album_set2)\r\n",
    "album_set3"
   ],
   "outputs": [],
   "metadata": {
    "collapsed": false,
    "jupyter": {
     "outputs_hidden": false
    }
   }
  },
  {
   "cell_type": "code",
   "execution_count": null,
   "source": [
    "# Write your code below and press Shift+Enter to execute\r\n",
    "\r\n",
    "album_set1.issubset(album_set3)"
   ],
   "outputs": [],
   "metadata": {
    "collapsed": false,
    "jupyter": {
     "outputs_hidden": false
    }
   }
  }
 ],
 "metadata": {
  "kernelspec": {
   "display_name": "Python",
   "language": "python",
   "name": "conda-env-python-py"
  },
  "language_info": {
   "codemirror_mode": {
    "name": "ipython",
    "version": 3
   },
   "file_extension": ".py",
   "mimetype": "text/x-python",
   "name": "python",
   "nbconvert_exporter": "python",
   "pygments_lexer": "ipython3",
   "version": "3.7.10"
  }
 },
 "nbformat": 4,
 "nbformat_minor": 4
}